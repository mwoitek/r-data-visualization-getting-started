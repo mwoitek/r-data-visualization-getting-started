{
 "cells": [
  {
   "cell_type": "markdown",
   "metadata": {},
   "source": [
    "\n",
    "# Final Report Exercise\n"
   ]
  },
  {
   "cell_type": "code",
   "execution_count": 1,
   "metadata": {
    "lines_to_next_cell": 2,
    "name": "setup"
   },
   "outputs": [],
   "source": [
    "suppressPackageStartupMessages(library(knitr))\n",
    "knitr::opts_chunk$set(echo = TRUE)\n",
    "suppressPackageStartupMessages(library(tidyverse))\n",
    "dat <- drop_na(read.csv(\"cces_sample_coursera.csv\"))"
   ]
  },
  {
   "cell_type": "markdown",
   "metadata": {},
   "source": [
    "# Problem 1\n",
    "\n",
    "Create a vector of five numbers of your choice between 0 and 10, save that\n",
    "vector to an object, and use the sum() function to calculate the sum of the\n",
    "numbers.\n"
   ]
  },
  {
   "cell_type": "code",
   "execution_count": 2,
   "metadata": {
    "lines_to_next_cell": 2,
    "name": "problem1"
   },
   "outputs": [
    {
     "data": {
      "text/html": [
       "20"
      ],
      "text/latex": [
       "20"
      ],
      "text/markdown": [
       "20"
      ],
      "text/plain": [
       "[1] 20"
      ]
     },
     "metadata": {},
     "output_type": "display_data"
    }
   ],
   "source": [
    "# Create a vector of 5 numbers:\n",
    "nums <- c(6, 9, 1, 4, 0)\n",
    "\n",
    "# Calculate the sum of the numbers:\n",
    "sum(nums)"
   ]
  },
  {
   "cell_type": "markdown",
   "metadata": {},
   "source": [
    "# Problem 2\n",
    "\n",
    "Create a data frame that includes two columns. One column must have the numbers\n",
    "1 through 5, and the other column must have the numbers 6 through 10. The first\n",
    "column must be named \"alpha\" and the second column must be named \"beta\". Name\n",
    "the object \"my_dat\". Display the data.\n"
   ]
  },
  {
   "cell_type": "code",
   "execution_count": 3,
   "metadata": {
    "lines_to_next_cell": 2,
    "name": "problem2"
   },
   "outputs": [
    {
     "data": {
      "text/html": [
       "<table>\n",
       "<caption>A data.frame: 5 × 2</caption>\n",
       "<thead>\n",
       "\t<tr><th scope=col>alpha</th><th scope=col>beta</th></tr>\n",
       "\t<tr><th scope=col>&lt;int&gt;</th><th scope=col>&lt;int&gt;</th></tr>\n",
       "</thead>\n",
       "<tbody>\n",
       "\t<tr><td>1</td><td> 6</td></tr>\n",
       "\t<tr><td>2</td><td> 7</td></tr>\n",
       "\t<tr><td>3</td><td> 8</td></tr>\n",
       "\t<tr><td>4</td><td> 9</td></tr>\n",
       "\t<tr><td>5</td><td>10</td></tr>\n",
       "</tbody>\n",
       "</table>\n"
      ],
      "text/latex": [
       "A data.frame: 5 × 2\n",
       "\\begin{tabular}{ll}\n",
       " alpha & beta\\\\\n",
       " <int> & <int>\\\\\n",
       "\\hline\n",
       "\t 1 &  6\\\\\n",
       "\t 2 &  7\\\\\n",
       "\t 3 &  8\\\\\n",
       "\t 4 &  9\\\\\n",
       "\t 5 & 10\\\\\n",
       "\\end{tabular}\n"
      ],
      "text/markdown": [
       "\n",
       "A data.frame: 5 × 2\n",
       "\n",
       "| alpha &lt;int&gt; | beta &lt;int&gt; |\n",
       "|---|---|\n",
       "| 1 |  6 |\n",
       "| 2 |  7 |\n",
       "| 3 |  8 |\n",
       "| 4 |  9 |\n",
       "| 5 | 10 |\n",
       "\n"
      ],
      "text/plain": [
       "  alpha beta\n",
       "1 1      6  \n",
       "2 2      7  \n",
       "3 3      8  \n",
       "4 4      9  \n",
       "5 5     10  "
      ]
     },
     "metadata": {},
     "output_type": "display_data"
    }
   ],
   "source": [
    "# Create the data frame as specified:\n",
    "my_dat <- as.data.frame(cbind(1:5, 6:10))\n",
    "colnames(my_dat) <- c(\"alpha\", \"beta\")\n",
    "\n",
    "# Display the data frame:\n",
    "my_dat"
   ]
  },
  {
   "cell_type": "markdown",
   "metadata": {},
   "source": [
    "# Problem 3\n",
    "\n",
    "Using the data frame created in Problem 2, use the summary() command to create\n",
    "a five-number summary for the column named \"beta\".\n"
   ]
  },
  {
   "cell_type": "code",
   "execution_count": 4,
   "metadata": {
    "lines_to_next_cell": 2,
    "name": "problem3"
   },
   "outputs": [
    {
     "data": {
      "text/plain": [
       "   Min. 1st Qu.  Median    Mean 3rd Qu.    Max. \n",
       "      6       7       8       8       9      10 "
      ]
     },
     "metadata": {},
     "output_type": "display_data"
    }
   ],
   "source": [
    "# Create the summary:\n",
    "summary(my_dat$beta)"
   ]
  },
  {
   "cell_type": "markdown",
   "metadata": {},
   "source": [
    "# Problem 4\n",
    "\n",
    "There is code for importing the example survey data that will run automatically\n",
    "in the setup chunk for this report. Using that data, make a boxplot of the\n",
    "family income column using the base R function (not a figure drawn using\n",
    "qplot). Include your name in the title for the plot. Relabel that x-axis as\n",
    "\"Family Income\".\n"
   ]
  },
  {
   "cell_type": "code",
   "execution_count": 5,
   "metadata": {
    "lines_to_next_cell": 2,
    "name": "problem4"
   },
   "outputs": [
    {
     "data": {
      "image/png": "[encoded data removed]",
      "text/plain": [
       "Plot with title “Marcio Woitek's Boxplot of Family Income”"
      ]
     },
     "metadata": {
      "image/png": {
       "height": 420,
       "width": 420
      }
     },
     "output_type": "display_data"
    }
   ],
   "source": [
    "# Make a boxplot of the family income as specified:\n",
    "boxplot(\n",
    "    dat$faminc_new,\n",
    "    main = \"Marcio Woitek's Boxplot of Family Income\", # Title\n",
    "    xlab = \"Family Income\" # x-axis label\n",
    ")"
   ]
  },
  {
   "cell_type": "markdown",
   "metadata": {},
   "source": [
    "# Problem 5\n",
    "\n",
    "Using the survey data, filter to subset the survey data so you only have male\n",
    "survey respondents who live in the Northwest or Midwest of the United States,\n",
    "are married, and identify as being interested in the news most of the time.\n",
    "\n",
    "Use the str() function to provide information about the resulting dataset.\n"
   ]
  },
  {
   "cell_type": "code",
   "execution_count": 6,
   "metadata": {
    "lines_to_next_cell": 2,
    "name": "problem5"
   },
   "outputs": [
    {
     "name": "stdout",
     "output_type": "stream",
     "text": [
      "'data.frame':\t75 obs. of  25 variables:\n",
      " $ caseid      : int  420208067 412948037 411855595 414480371 416806180 414729651 412021973 412348831 412929385 412047867 ...\n",
      " $ region      : int  2 1 1 1 2 2 1 2 1 2 ...\n",
      " $ gender      : int  1 1 1 1 1 1 1 1 1 1 ...\n",
      " $ educ        : int  3 5 6 5 3 2 6 5 5 5 ...\n",
      " $ edloan      : int  2 1 2 1 1 2 2 2 2 2 ...\n",
      " $ race        : int  1 1 1 1 1 1 1 1 1 1 ...\n",
      " $ hispanic    : int  2 2 2 2 2 2 2 2 2 2 ...\n",
      " $ employ      : int  1 1 1 1 1 5 5 1 1 1 ...\n",
      " $ marstat     : int  1 1 1 1 1 1 1 1 1 1 ...\n",
      " $ pid7        : int  4 1 4 4 6 2 1 1 1 7 ...\n",
      " $ ideo5       : int  5 1 3 3 3 1 2 3 1 5 ...\n",
      " $ pew_religimp: int  4 4 4 1 2 4 4 2 4 1 ...\n",
      " $ newsint     : int  1 1 1 1 1 1 1 1 1 1 ...\n",
      " $ faminc_new  : int  10 11 10 9 10 2 13 8 7 11 ...\n",
      " $ union       : int  1 2 3 3 1 3 2 2 2 3 ...\n",
      " $ investor    : int  2 1 1 1 1 2 1 2 1 2 ...\n",
      " $ CC18_308a   : int  4 4 4 1 2 3 4 4 4 1 ...\n",
      " $ CC18_310a   : int  2 3 3 3 2 2 3 2 3 2 ...\n",
      " $ CC18_310b   : int  2 3 3 3 2 3 3 5 3 3 ...\n",
      " $ CC18_310c   : int  3 3 3 3 3 3 2 5 3 3 ...\n",
      " $ CC18_310d   : int  2 5 3 3 3 2 2 2 3 3 ...\n",
      " $ CC18_325a   : int  1 2 1 1 1 2 2 2 2 1 ...\n",
      " $ CC18_325b   : int  2 2 1 1 1 1 2 1 2 2 ...\n",
      " $ CC18_325c   : int  1 2 2 1 1 2 2 1 2 2 ...\n",
      " $ CC18_325d   : int  1 1 1 1 1 1 1 1 2 1 ...\n"
     ]
    }
   ],
   "source": [
    "# Filter the survey data:\n",
    "filtered_data <- dat %>% filter(\n",
    "    .data[[\"gender\"]] == 1, # Male\n",
    "    .data[[\"marstat\"]] == 1, # Married\n",
    "    .data[[\"newsint\"]] == 1, # Interested in the news most of the time\n",
    "    .data[[\"region\"]] < 3 # Live in the Northwest or Midwest\n",
    ")\n",
    "\n",
    "# Display the internal structure of filtered_data:\n",
    "str(filtered_data)"
   ]
  },
  {
   "cell_type": "markdown",
   "metadata": {},
   "source": [
    "# Problem 6\n",
    "\n",
    "Filter the data the same as in Problem 5. Use a R function to create\n",
    "a frequency table for the responses for the question asking whether these\n",
    "survey respondents are invested in the stock market.\n"
   ]
  },
  {
   "cell_type": "code",
   "execution_count": 7,
   "metadata": {
    "lines_to_next_cell": 2,
    "name": "problem6"
   },
   "outputs": [
    {
     "data": {
      "text/plain": [
       "\n",
       " 1  2 \n",
       "57 18 "
      ]
     },
     "metadata": {},
     "output_type": "display_data"
    }
   ],
   "source": [
    "# Create the frequency table for the investor column of filtered_data:\n",
    "table(filtered_data$investor)"
   ]
  },
  {
   "cell_type": "markdown",
   "metadata": {},
   "source": [
    "# Problem 7\n",
    "\n",
    "Going back to using all rows in the dataset, create a new column in the data\n",
    "using mutate that is equal to either 0, 1, or 2, to reflect whether the\n",
    "respondent supports increasing the standard deduction from 12,000 to 25,000,\n",
    "supports cutting the corporate income tax rate from 39 to 21 percent, or both.\n",
    "Name the column \"tax_scale\". Display the first twenty elements of the new\n",
    "column you create.\n"
   ]
  },
  {
   "cell_type": "code",
   "execution_count": 8,
   "metadata": {
    "lines_to_next_cell": 2,
    "name": "problem7"
   },
   "outputs": [
    {
     "name": "stdout",
     "output_type": "stream",
     "text": [
      " [1] 2 1 1 1 2 2 2 1 0 1 0 2 0 1 0 1 1 1 2 1\n"
     ]
    }
   ],
   "source": [
    "# Helper function:\n",
    "hlpr <- function(col) { return(col %>% recode(`2` = 0L)) }\n",
    "\n",
    "# Create the tax_scale column:\n",
    "dat <- dat %>% mutate(tax_scale = hlpr(dat$CC18_325a) + hlpr(dat$CC18_325d))\n",
    "\n",
    "# Display the first 20 elements of tax_scale:\n",
    "print(dat$tax_scale[1:20])"
   ]
  },
  {
   "cell_type": "markdown",
   "metadata": {},
   "source": [
    "# Problem 8\n",
    "\n",
    "Use a frequency table command to show how many 0s, 1s, and 2s are in the column\n",
    "you created in Problem 7.\n"
   ]
  },
  {
   "cell_type": "code",
   "execution_count": 9,
   "metadata": {
    "lines_to_next_cell": 2,
    "name": "problem8"
   },
   "outputs": [
    {
     "data": {
      "text/plain": [
       "\n",
       "  0   1   2 \n",
       "130 408 331 "
      ]
     },
     "metadata": {},
     "output_type": "display_data"
    }
   ],
   "source": [
    "# Create the frequency table for the tax_scale column of dat:\n",
    "table(dat$tax_scale)"
   ]
  },
  {
   "cell_type": "markdown",
   "metadata": {},
   "source": [
    "# Problem 9\n",
    "\n",
    "Again using all rows in the original dataset, use summarise and group_by to\n",
    "calculate the average (mean) job approval for President Trump in each of the\n",
    "four regions listed in the \"region\" column.\n"
   ]
  },
  {
   "cell_type": "code",
   "execution_count": 10,
   "metadata": {
    "lines_to_next_cell": 2,
    "name": "problem9"
   },
   "outputs": [
    {
     "data": {
      "text/html": [
       "<table>\n",
       "<caption>A tibble: 4 × 2</caption>\n",
       "<thead>\n",
       "\t<tr><th scope=col>region</th><th scope=col>Trump_Approve_Mean</th></tr>\n",
       "\t<tr><th scope=col>&lt;int&gt;</th><th scope=col>&lt;dbl&gt;</th></tr>\n",
       "</thead>\n",
       "<tbody>\n",
       "\t<tr><td>1</td><td>2.77</td></tr>\n",
       "\t<tr><td>2</td><td>2.76</td></tr>\n",
       "\t<tr><td>3</td><td>2.71</td></tr>\n",
       "\t<tr><td>4</td><td>3.03</td></tr>\n",
       "</tbody>\n",
       "</table>\n"
      ],
      "text/latex": [
       "A tibble: 4 × 2\n",
       "\\begin{tabular}{ll}\n",
       " region & Trump\\_Approve\\_Mean\\\\\n",
       " <int> & <dbl>\\\\\n",
       "\\hline\n",
       "\t 1 & 2.77\\\\\n",
       "\t 2 & 2.76\\\\\n",
       "\t 3 & 2.71\\\\\n",
       "\t 4 & 3.03\\\\\n",
       "\\end{tabular}\n"
      ],
      "text/markdown": [
       "\n",
       "A tibble: 4 × 2\n",
       "\n",
       "| region &lt;int&gt; | Trump_Approve_Mean &lt;dbl&gt; |\n",
       "|---|---|\n",
       "| 1 | 2.77 |\n",
       "| 2 | 2.76 |\n",
       "| 3 | 2.71 |\n",
       "| 4 | 3.03 |\n",
       "\n"
      ],
      "text/plain": [
       "  region Trump_Approve_Mean\n",
       "1 1      2.77              \n",
       "2 2      2.76              \n",
       "3 3      2.71              \n",
       "4 4      3.03              "
      ]
     },
     "metadata": {},
     "output_type": "display_data"
    }
   ],
   "source": [
    "# Calculate the average job approval for President Trump in each region:\n",
    "dat %>%\n",
    "    group_by(region) %>%\n",
    "    summarise(Trump_Approve_Mean = round(mean(CC18_308a), digits = 2), .groups = \"drop\")"
   ]
  },
  {
   "cell_type": "markdown",
   "metadata": {},
   "source": [
    "# Problem 10\n",
    "\n",
    "Again start with all rows in the original dataset, use summarise() to create a\n",
    "summary table for survey respondents who are not investors and who have an\n",
    "annual family income of between \\\\$40,000 and \\\\$119,999 per year. The table\n",
    "should have the mean, median and standard deviations for the importance of\n",
    "religion column.\n"
   ]
  },
  {
   "cell_type": "code",
   "execution_count": 11,
   "metadata": {
    "lines_to_next_cell": 2,
    "name": "problem10"
   },
   "outputs": [
    {
     "data": {
      "text/html": [
       "<table>\n",
       "<caption>A data.frame: 1 × 3</caption>\n",
       "<thead>\n",
       "\t<tr><th scope=col>Mean Religion Imp.</th><th scope=col>Median Religion Imp.</th><th scope=col>Standard Dev. Religion Imp.</th></tr>\n",
       "\t<tr><th scope=col>&lt;dbl&gt;</th><th scope=col>&lt;dbl&gt;</th><th scope=col>&lt;dbl&gt;</th></tr>\n",
       "</thead>\n",
       "<tbody>\n",
       "\t<tr><td>2.325893</td><td>2</td><td>1.188906</td></tr>\n",
       "</tbody>\n",
       "</table>\n"
      ],
      "text/latex": [
       "A data.frame: 1 × 3\n",
       "\\begin{tabular}{lll}\n",
       " Mean Religion Imp. & Median Religion Imp. & Standard Dev. Religion Imp.\\\\\n",
       " <dbl> & <dbl> & <dbl>\\\\\n",
       "\\hline\n",
       "\t 2.325893 & 2 & 1.188906\\\\\n",
       "\\end{tabular}\n"
      ],
      "text/markdown": [
       "\n",
       "A data.frame: 1 × 3\n",
       "\n",
       "| Mean Religion Imp. &lt;dbl&gt; | Median Religion Imp. &lt;dbl&gt; | Standard Dev. Religion Imp. &lt;dbl&gt; |\n",
       "|---|---|---|\n",
       "| 2.325893 | 2 | 1.188906 |\n",
       "\n"
      ],
      "text/plain": [
       "  Mean Religion Imp. Median Religion Imp. Standard Dev. Religion Imp.\n",
       "1 2.325893           2                    1.188906                   "
      ]
     },
     "metadata": {},
     "output_type": "display_data"
    }
   ],
   "source": [
    "dat %>%\n",
    "    # Filter the survey data:\n",
    "    filter(\n",
    "        .data[[\"faminc_new\"]] > 4, # Income greater than or equal to $40,000\n",
    "        .data[[\"faminc_new\"]] < 11, # Income less than $120,000\n",
    "        .data[[\"investor\"]] == 2 # Non-investors\n",
    "    ) %>%\n",
    "    # Create the summary table:\n",
    "    summarise(\n",
    "        \"Mean Religion Imp.\" = mean(pew_religimp),\n",
    "        \"Median Religion Imp.\" = median(pew_religimp),\n",
    "        \"Standard Dev. Religion Imp.\" = sd(pew_religimp)\n",
    "    )"
   ]
  },
  {
   "cell_type": "markdown",
   "metadata": {},
   "source": [
    "# Problem 11\n",
    "\n",
    "Use kable() and the summarise() function to create a table with one row and\n",
    "three columns that provides the mean, median, and standard deviation for the\n",
    "column named \"faminc_new\" in the survey data.\n"
   ]
  },
  {
   "cell_type": "code",
   "execution_count": 12,
   "metadata": {
    "lines_to_next_cell": 2,
    "name": "problem11"
   },
   "outputs": [
    {
     "data": {
      "text/plain": [
       "\n",
       "\n",
       "|     Mean| Median| Std. Dev.|\n",
       "|--------:|------:|---------:|\n",
       "| 6.581128|      6|  3.247035|"
      ]
     },
     "metadata": {},
     "output_type": "display_data"
    }
   ],
   "source": [
    "# Create the summary table:\n",
    "dat %>%\n",
    "    summarise(\n",
    "        Mean = mean(faminc_new),\n",
    "        Median = median(faminc_new),\n",
    "        \"Std. Dev.\" = sd(faminc_new)\n",
    "    ) %>%\n",
    "    kable()"
   ]
  },
  {
   "cell_type": "markdown",
   "metadata": {},
   "source": [
    "# Problem 12\n",
    "\n",
    "With the survey data, use qplot() to make a histogram of the column named\n",
    "\"pid7\". Change the x-axis label to \"Seven Point Party ID\" and the y-axis label\n",
    "to \"Count\".\n"
   ]
  },
  {
   "cell_type": "code",
   "execution_count": 13,
   "metadata": {
    "name": "problem12"
   },
   "outputs": [
    {
     "name": "stderr",
     "output_type": "stream",
     "text": [
      "`stat_bin()` using `bins = 30`. Pick better value with `binwidth`.\n",
      "\n"
     ]
    },
    {
     "data": {
      "image/png": "[encoded data removed]",
      "text/plain": [
       "plot without title"
      ]
     },
     "metadata": {
      "image/png": {
       "height": 420,
       "width": 420
      }
     },
     "output_type": "display_data"
    }
   ],
   "source": [
    "# Make a histogram of the pid7 column:\n",
    "qplot(\n",
    "    dat$pid7,\n",
    "    geom = \"histogram\",\n",
    "    xlab = \"Seven-Point Party ID\", # x-axis label\n",
    "    ylab = \"Count\" # y-axis label\n",
    ")"
   ]
  }
 ],
 "metadata": {
  "jupytext": {
   "formats": "ipynb,Rmd"
  },
  "kernelspec": {
   "display_name": "R",
   "language": "R",
   "name": "ir"
  },
  "language_info": {
   "codemirror_mode": "r",
   "file_extension": ".r",
   "mimetype": "text/x-r-source",
   "name": "R",
   "pygments_lexer": "r",
   "version": "3.5.2"
  }
 },
 "nbformat": 4,
 "nbformat_minor": 4
}
